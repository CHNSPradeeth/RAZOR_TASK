{
 "cells": [
  {
   "cell_type": "code",
   "execution_count": null,
   "metadata": {},
   "outputs": [],
   "source": [
    "import pandas as pd\n",
    "import re\n",
    "import matplotlib.pyplot as plt\n"
   ]
  },
  {
   "cell_type": "code",
   "execution_count": null,
   "metadata": {},
   "outputs": [],
   "source": [
    "# Load the dataset\n",
    "file_path = 'Sample_Longlist_Data.xlsx'\n",
    "data = pd.read_excel(file_path)"
   ]
  },
  {
   "cell_type": "code",
   "execution_count": null,
   "metadata": {},
   "outputs": [],
   "source": [
    "# Display basic information about the dataset\n",
    "print(\"Dataset Information:\")\n",
    "data.info()"
   ]
  },
  {
   "cell_type": "code",
   "execution_count": null,
   "metadata": {},
   "outputs": [],
   "source": [
    "# Display first few rows to understand the structure\n",
    "print(\"\\nFirst 5 rows of the dataset:\")\n",
    "print(data.head())"
   ]
  },
  {
   "cell_type": "code",
   "execution_count": null,
   "metadata": {},
   "outputs": [],
   "source": [
    "# Check column names\n",
    "print(\"\\nColumn names:\")\n",
    "print(data.columns)"
   ]
  },
  {
   "cell_type": "code",
   "execution_count": null,
   "metadata": {},
   "outputs": [],
   "source": [
    "# Data Sanitization\n",
    "# 1. Parse product counts\n",
    "def parse_product_count(product_count_str):\n",
    "    match = re.search(r'over (\\d+[,.\\d+]*)', str(product_count_str))\n",
    "    return int(match.group(1).replace(',', '')) if match else 0\n",
    "\n",
    "data['parsed_product_count'] = data['sellerproductcount'].apply(parse_product_count)\n"
   ]
  },
  {
   "cell_type": "code",
   "execution_count": null,
   "metadata": {},
   "outputs": [],
   "source": [
    "# 2. Extract ratings percentage and count\n",
    "def parse_seller_ratings(rating_str):\n",
    "    percentage_match = re.search(r'(\\d+)%', str(rating_str))\n",
    "    count_match = re.search(r'\\((\\d+) ratings\\)', str(rating_str))\n",
    "    percentage = int(percentage_match.group(1)) if percentage_match else 0\n",
    "    count = int(count_match.group(1)) if count_match else 0\n",
    "    return percentage, count\n",
    "\n",
    "ratings = data['sellerratings'].apply(parse_seller_ratings)\n",
    "data['rating_percentage'] = ratings.apply(lambda x: x[0])\n",
    "data['rating_count'] = ratings.apply(lambda x: x[1])\n"
   ]
  },
  {
   "cell_type": "code",
   "execution_count": null,
   "metadata": {},
   "outputs": [],
   "source": [
    "# 3. Extract phone numbers and emails\n",
    "data['phone_number'] = data['sellerdetails'].str.extract(r'(\\+?\\d{1,4}[\\s\\-]?\\d{1,4}[\\s\\-]?\\d{4,})')\n",
    "data['email'] = data['sellerdetails'].str.extract(r'([\\w\\.-]+@[\\w\\.-]+)')"
   ]
  },
  {
   "cell_type": "code",
   "execution_count": null,
   "metadata": {},
   "outputs": [],
   "source": [
    "# 4. Parse business address for country\n",
    "def parse_country(address):\n",
    "    if 'US' in str(address):\n",
    "        return 'US'\n",
    "    elif 'DE' in str(address):\n",
    "        return 'Germany'\n",
    "    elif 'CN' in str(address):\n",
    "        return 'China'\n",
    "    else:\n",
    "        return 'Other'\n",
    "\n",
    "data['country'] = data['businessaddress'].apply(parse_country)\n"
   ]
  },
  {
   "cell_type": "code",
   "execution_count": null,
   "metadata": {},
   "outputs": [],
   "source": [
    "# Filter out Chinese sellers\n",
    "data = data[data['country'] != 'China']\n"
   ]
  },
  {
   "cell_type": "code",
   "execution_count": null,
   "metadata": {},
   "outputs": [],
   "source": [
    "# Selection Criteria\n",
    "best_sellers = data[(data['parsed_product_count'] > 1000) & \n",
    "                    (data['rating_percentage'] > 80) & \n",
    "                    (data['rating_count'] > 100) & \n",
    "                    (data['country'].isin(['US', 'Germany']))]\n"
   ]
  },
  {
   "cell_type": "code",
   "execution_count": null,
   "metadata": {},
   "outputs": [],
   "source": [
    "# Check for correct seller name column\n",
    "seller_name_column = 'sellername' if 'sellername' in best_sellers.columns else best_sellers.columns[0]"
   ]
  },
  {
   "cell_type": "code",
   "execution_count": null,
   "metadata": {},
   "outputs": [],
   "source": [
    "# Display best sellers\n",
    "print(\"\\nBest Sellers:\")\n",
    "print(best_sellers[[seller_name_column, 'parsed_product_count', 'rating_percentage', 'rating_count', 'country', 'phone_number', 'email']])\n"
   ]
  },
  {
   "cell_type": "code",
   "execution_count": null,
   "metadata": {},
   "outputs": [],
   "source": [
    "# Save best sellers to Excel\n",
    "output_file = 'Best_Sellers2.xlsx'\n",
    "best_sellers.to_excel(output_file, index=False)\n",
    "\n",
    "print(f\"\\nBest sellers data has been saved to: {output_file}\")"
   ]
  },
  {
   "cell_type": "code",
   "execution_count": null,
   "metadata": {},
   "outputs": [],
   "source": [
    "# Visualization\n",
    "plt.figure(figsize=(10, 6))\n",
    "best_sellers['country'].value_counts().plot(kind='bar', color='skyblue')\n",
    "plt.title('Number of Best Sellers by Country')\n",
    "plt.xlabel('Country')\n",
    "plt.ylabel('Number of Sellers')\n",
    "plt.show()"
   ]
  }
 ],
 "metadata": {
  "kernelspec": {
   "display_name": "Python 3",
   "language": "python",
   "name": "python3"
  },
  "language_info": {
   "name": "python",
   "version": "3.12.1"
  }
 },
 "nbformat": 4,
 "nbformat_minor": 2
}
